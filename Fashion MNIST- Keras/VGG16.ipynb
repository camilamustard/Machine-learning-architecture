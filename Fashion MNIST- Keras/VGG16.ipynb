{
  "nbformat": 4,
  "nbformat_minor": 0,
  "metadata": {
    "colab": {
      "provenance": []
    },
    "kernelspec": {
      "name": "python3",
      "display_name": "Python 3"
    },
    "language_info": {
      "name": "python"
    },
    "accelerator": "GPU",
    "gpuClass": "standard"
  },
  "cells": [
    {
      "cell_type": "code",
      "execution_count": null,
      "metadata": {
        "id": "sSbU50t-PDR7"
      },
      "outputs": [],
      "source": [
        "import numpy as np\n",
        "from matplotlib import pyplot as plt\n",
        "\n",
        "# importação de classes do Keras (modelos de Deep Learning)\n",
        "from keras.datasets import fashion_mnist\n",
        "from keras.models import Sequential\n",
        "from keras.layers import Dense, InputLayer\n",
        "from keras.layers import Dropout\n",
        "from keras.utils import np_utils"
      ]
    },
    {
      "cell_type": "code",
      "source": [
        "(X_train, y_train), (X_test, y_test) = fashion_mnist.load_data()"
      ],
      "metadata": {
        "id": "r0JHtssIPJXE"
      },
      "execution_count": null,
      "outputs": []
    },
    {
      "cell_type": "code",
      "source": [
        "from tensorflow.image import resize\n",
        "# Adiciona eixo no último índice da lista\n",
        "X_train_1 = np.expand_dims(X_train, axis=-1) \n",
        "# Repete 3 vezes o último índice\n",
        "X_train_1 = np.repeat(X_train_1, 3, axis=-1) \n",
        "# Redimensiona as imagens para 32x32\n",
        "X_train_resize = resize(X_train_1, [32,32])"
      ],
      "metadata": {
        "id": "PbOsnva1PUY2"
      },
      "execution_count": null,
      "outputs": []
    },
    {
      "cell_type": "code",
      "source": [
        "from tensorflow.image import resize\n",
        "# Adiciona eixo no último índice da lista\n",
        "X_test_1 = np.expand_dims(X_test, axis=-1) \n",
        "# Repete 3 vezes o último índice\n",
        "X_test_1 = np.repeat(X_test_1, 3, axis=-1) \n",
        "# Redimensiona as imagens para 32x32\n",
        "X_test_resize = resize(X_test_1, [32,32])"
      ],
      "metadata": {
        "id": "9GypT3FXPdjF"
      },
      "execution_count": null,
      "outputs": []
    },
    {
      "cell_type": "code",
      "source": [
        "# One-hot Vector\n",
        "y_train_h = np_utils.to_categorical(y_train)\n",
        "y_test_h = np_utils.to_categorical(y_test)"
      ],
      "metadata": {
        "id": "uELBU5B5Plv_"
      },
      "execution_count": null,
      "outputs": []
    },
    {
      "cell_type": "code",
      "source": [
        "# contém o número de classes do problema\n",
        "num_classes = y_test_h.shape[1]\n",
        "print(num_classes)"
      ],
      "metadata": {
        "colab": {
          "base_uri": "https://localhost:8080/"
        },
        "id": "niicDxj4PrUq",
        "outputId": "f4930197-02f6-4093-b0d8-a01f01036581"
      },
      "execution_count": null,
      "outputs": [
        {
          "output_type": "stream",
          "name": "stdout",
          "text": [
            "10\n"
          ]
        }
      ]
    },
    {
      "cell_type": "code",
      "source": [
        "# Variável que contém o número de pixels da imagem\n",
        "num_pixels_vgg = X_train_resize.shape[1] * X_train_resize.shape[2]\n",
        "print(num_pixels_vgg)"
      ],
      "metadata": {
        "colab": {
          "base_uri": "https://localhost:8080/"
        },
        "id": "Yrmc3ld1PvJh",
        "outputId": "906903bd-6206-41a1-dd4f-aaca8c3a23da"
      },
      "execution_count": null,
      "outputs": [
        {
          "output_type": "stream",
          "name": "stdout",
          "text": [
            "1024\n"
          ]
        }
      ]
    },
    {
      "cell_type": "code",
      "source": [
        "# MODELO VGG16\n",
        "from keras.applications.vgg16 import VGG16\n",
        "model = VGG16(weights=None,input_shape=(32,32,3), classes=10)"
      ],
      "metadata": {
        "id": "tecKv9gCPzhZ"
      },
      "execution_count": null,
      "outputs": []
    },
    {
      "cell_type": "code",
      "source": [
        "print(X_train_resize.shape)\n",
        "print(X_test_resize.shape)"
      ],
      "metadata": {
        "colab": {
          "base_uri": "https://localhost:8080/"
        },
        "id": "oqaMkzRwQxML",
        "outputId": "49758f13-5e2e-44c7-9b48-04680fe9ae5e"
      },
      "execution_count": null,
      "outputs": [
        {
          "output_type": "stream",
          "name": "stdout",
          "text": [
            "(60000, 32, 32, 3)\n",
            "(10000, 32, 32, 3)\n"
          ]
        }
      ]
    },
    {
      "cell_type": "code",
      "source": [
        "model.summary() # Imprime informações a respeito do modelo"
      ],
      "metadata": {
        "colab": {
          "base_uri": "https://localhost:8080/"
        },
        "id": "xHwFetzlQ1SQ",
        "outputId": "ec37be63-b9d2-4319-ee8f-9e14d538dc81"
      },
      "execution_count": null,
      "outputs": [
        {
          "output_type": "stream",
          "name": "stdout",
          "text": [
            "Model: \"vgg16\"\n",
            "_________________________________________________________________\n",
            " Layer (type)                Output Shape              Param #   \n",
            "=================================================================\n",
            " input_4 (InputLayer)        [(None, 32, 32, 3)]       0         \n",
            "                                                                 \n",
            " block1_conv1 (Conv2D)       (None, 32, 32, 64)        1792      \n",
            "                                                                 \n",
            " block1_conv2 (Conv2D)       (None, 32, 32, 64)        36928     \n",
            "                                                                 \n",
            " block1_pool (MaxPooling2D)  (None, 16, 16, 64)        0         \n",
            "                                                                 \n",
            " block2_conv1 (Conv2D)       (None, 16, 16, 128)       73856     \n",
            "                                                                 \n",
            " block2_conv2 (Conv2D)       (None, 16, 16, 128)       147584    \n",
            "                                                                 \n",
            " block2_pool (MaxPooling2D)  (None, 8, 8, 128)         0         \n",
            "                                                                 \n",
            " block3_conv1 (Conv2D)       (None, 8, 8, 256)         295168    \n",
            "                                                                 \n",
            " block3_conv2 (Conv2D)       (None, 8, 8, 256)         590080    \n",
            "                                                                 \n",
            " block3_conv3 (Conv2D)       (None, 8, 8, 256)         590080    \n",
            "                                                                 \n",
            " block3_pool (MaxPooling2D)  (None, 4, 4, 256)         0         \n",
            "                                                                 \n",
            " block4_conv1 (Conv2D)       (None, 4, 4, 512)         1180160   \n",
            "                                                                 \n",
            " block4_conv2 (Conv2D)       (None, 4, 4, 512)         2359808   \n",
            "                                                                 \n",
            " block4_conv3 (Conv2D)       (None, 4, 4, 512)         2359808   \n",
            "                                                                 \n",
            " block4_pool (MaxPooling2D)  (None, 2, 2, 512)         0         \n",
            "                                                                 \n",
            " block5_conv1 (Conv2D)       (None, 2, 2, 512)         2359808   \n",
            "                                                                 \n",
            " block5_conv2 (Conv2D)       (None, 2, 2, 512)         2359808   \n",
            "                                                                 \n",
            " block5_conv3 (Conv2D)       (None, 2, 2, 512)         2359808   \n",
            "                                                                 \n",
            " block5_pool (MaxPooling2D)  (None, 1, 1, 512)         0         \n",
            "                                                                 \n",
            " flatten (Flatten)           (None, 512)               0         \n",
            "                                                                 \n",
            " fc1 (Dense)                 (None, 4096)              2101248   \n",
            "                                                                 \n",
            " fc2 (Dense)                 (None, 4096)              16781312  \n",
            "                                                                 \n",
            " predictions (Dense)         (None, 10)                40970     \n",
            "                                                                 \n",
            "=================================================================\n",
            "Total params: 33,638,218\n",
            "Trainable params: 33,638,218\n",
            "Non-trainable params: 0\n",
            "_________________________________________________________________\n"
          ]
        }
      ]
    },
    {
      "cell_type": "code",
      "source": [
        "# compila o modelo criado\n",
        "model.compile(loss = 'categorical_crossentropy', optimizer = 'adam', metrics = ['accuracy']) "
      ],
      "metadata": {
        "id": "MBSMTuPeQ72j"
      },
      "execution_count": null,
      "outputs": []
    },
    {
      "cell_type": "code",
      "source": [
        "# Executa o treinamento\n",
        "result = model.fit(X_train_resize, y_train_h, validation_data = (X_test_resize, y_test_h), epochs = 20, verbose = 1, batch_size = 100)"
      ],
      "metadata": {
        "colab": {
          "base_uri": "https://localhost:8080/"
        },
        "id": "INwMiv2bRA5e",
        "outputId": "c3e9a314-db4a-4c0b-b348-b15024204c49"
      },
      "execution_count": null,
      "outputs": [
        {
          "output_type": "stream",
          "name": "stdout",
          "text": [
            "Epoch 1/20\n",
            "600/600 [==============================] - 58s 94ms/step - loss: 1.0628 - accuracy: 0.6716 - val_loss: 0.4922 - val_accuracy: 0.8222\n",
            "Epoch 2/20\n",
            "600/600 [==============================] - 61s 102ms/step - loss: 0.4086 - accuracy: 0.8512 - val_loss: 0.3433 - val_accuracy: 0.8743\n",
            "Epoch 3/20\n",
            "600/600 [==============================] - 59s 98ms/step - loss: 0.3784 - accuracy: 0.8651 - val_loss: 0.3532 - val_accuracy: 0.8735\n",
            "Epoch 4/20\n",
            "600/600 [==============================] - 54s 90ms/step - loss: 0.3125 - accuracy: 0.8874 - val_loss: 0.3226 - val_accuracy: 0.8846\n",
            "Epoch 5/20\n",
            "600/600 [==============================] - 55s 91ms/step - loss: 0.2877 - accuracy: 0.8982 - val_loss: 0.3299 - val_accuracy: 0.8833\n",
            "Epoch 6/20\n",
            "600/600 [==============================] - 54s 90ms/step - loss: 0.2669 - accuracy: 0.9048 - val_loss: 0.3016 - val_accuracy: 0.8939\n",
            "Epoch 7/20\n",
            "600/600 [==============================] - 58s 96ms/step - loss: 0.2914 - accuracy: 0.8984 - val_loss: 0.3261 - val_accuracy: 0.8982\n",
            "Epoch 8/20\n",
            "600/600 [==============================] - 63s 105ms/step - loss: 0.2526 - accuracy: 0.9105 - val_loss: 0.2948 - val_accuracy: 0.8969\n",
            "Epoch 9/20\n",
            "600/600 [==============================] - 61s 102ms/step - loss: 0.2487 - accuracy: 0.9125 - val_loss: 0.3077 - val_accuracy: 0.8990\n",
            "Epoch 10/20\n",
            "600/600 [==============================] - 58s 97ms/step - loss: 0.2275 - accuracy: 0.9204 - val_loss: 0.2882 - val_accuracy: 0.9023\n",
            "Epoch 11/20\n",
            "600/600 [==============================] - 56s 93ms/step - loss: 0.2179 - accuracy: 0.9234 - val_loss: 0.2547 - val_accuracy: 0.9080\n",
            "Epoch 12/20\n",
            "600/600 [==============================] - 57s 95ms/step - loss: 0.2565 - accuracy: 0.9131 - val_loss: 0.3024 - val_accuracy: 0.8887\n",
            "Epoch 13/20\n",
            "600/600 [==============================] - 56s 93ms/step - loss: 0.2026 - accuracy: 0.9287 - val_loss: 0.2807 - val_accuracy: 0.9038\n",
            "Epoch 14/20\n",
            "600/600 [==============================] - 59s 98ms/step - loss: 0.1794 - accuracy: 0.9374 - val_loss: 0.2825 - val_accuracy: 0.9113\n",
            "Epoch 15/20\n",
            "600/600 [==============================] - 57s 94ms/step - loss: 0.1748 - accuracy: 0.9384 - val_loss: 0.3265 - val_accuracy: 0.9111\n",
            "Epoch 16/20\n",
            "600/600 [==============================] - 56s 94ms/step - loss: 0.2733 - accuracy: 0.9107 - val_loss: 0.2802 - val_accuracy: 0.9068\n",
            "Epoch 17/20\n",
            "600/600 [==============================] - 53s 89ms/step - loss: 0.1973 - accuracy: 0.9307 - val_loss: 0.2564 - val_accuracy: 0.9144\n",
            "Epoch 18/20\n",
            "600/600 [==============================] - 54s 90ms/step - loss: 0.1701 - accuracy: 0.9395 - val_loss: 0.2750 - val_accuracy: 0.9129\n",
            "Epoch 19/20\n",
            "600/600 [==============================] - 60s 99ms/step - loss: 0.1761 - accuracy: 0.9384 - val_loss: 0.2735 - val_accuracy: 0.9176\n",
            "Epoch 20/20\n",
            "600/600 [==============================] - 58s 97ms/step - loss: 0.1628 - accuracy: 0.9426 - val_loss: 0.2603 - val_accuracy: 0.9203\n"
          ]
        }
      ]
    }
  ]
}